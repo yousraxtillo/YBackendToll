{
 "cells": [
  {
   "cell_type": "code",
   "execution_count": null,
   "metadata": {},
   "outputs": [],
   "source": []
  },
  {
   "cell_type": "code",
   "execution_count": 1,
   "metadata": {},
   "outputs": [],
   "source": [
    "import re"
   ]
  },
  {
   "cell_type": "code",
   "execution_count": 3,
   "metadata": {},
   "outputs": [
    {
     "name": "stdout",
     "output_type": "stream",
     "text": [
      "['12069011', '16024910', '16024920', '16024990']\n"
     ]
    }
   ],
   "source": [
    "response_teksten = \"\"\"12069011 Selvfølgelig! Her er tre eksempler på ekakte varenummer som kan være aktuelle for beskrivelsen \"asiatiske ribber man spiser til jul\":\n",
    "\n",
    "1. 16024910 - Dette er et varenummer for \"Ribber av svin, uten bein og dele videre, marinert eller krydret, stekt eller grillet, nedkjølt\"\n",
    "2. 16024920 - Dette varenummeret er for \"Ribber av svin, uten ben og dele videre, marinert eller krydret men ikke stekt eller grillet, nedkjølt\"\n",
    "3. 16024990 - Dette varenummeret er for \"Ribber av svin, uten bein og dele videre, ikke marinert eller krydret, nedkjølt\"\n",
    "\n",
    "Disse varenumrene er eksempler på hvordan varebeskrivelsen \"asiatiske ribber man spiser til jul\" kan klassifiseres i den norske tolltariffen.\n",
    "\"\"\"\n",
    "varenummer_regex = r\"\\d{8}\"\n",
    "matches = re.findall(varenummer_regex, response_teksten)\n",
    "print(matches)"
   ]
  },
  {
   "cell_type": "code",
   "execution_count": null,
   "metadata": {},
   "outputs": [],
   "source": []
  }
 ],
 "metadata": {
  "kernelspec": {
   "display_name": "venv",
   "language": "python",
   "name": "python3"
  },
  "language_info": {
   "codemirror_mode": {
    "name": "ipython",
    "version": 3
   },
   "file_extension": ".py",
   "mimetype": "text/x-python",
   "name": "python",
   "nbconvert_exporter": "python",
   "pygments_lexer": "ipython3",
   "version": "3.9.7"
  }
 },
 "nbformat": 4,
 "nbformat_minor": 2
}
