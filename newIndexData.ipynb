{
 "cells": [
  {
   "cell_type": "code",
   "execution_count": 1,
   "metadata": {},
   "outputs": [],
   "source": [
    "import pandas as pd\n",
    "from dotenv import load_dotenv\n",
    "import os\n",
    "import openai\n"
   ]
  },
  {
   "cell_type": "code",
   "execution_count": 2,
   "metadata": {},
   "outputs": [],
   "source": [
    "load_dotenv()\n",
    "\n",
    "openai.api_key = os.getenv('API_KEY')"
   ]
  },
  {
   "cell_type": "code",
   "execution_count": 3,
   "metadata": {},
   "outputs": [
    {
     "data": {
      "text/html": [
       "<div>\n",
       "<style scoped>\n",
       "    .dataframe tbody tr th:only-of-type {\n",
       "        vertical-align: middle;\n",
       "    }\n",
       "\n",
       "    .dataframe tbody tr th {\n",
       "        vertical-align: top;\n",
       "    }\n",
       "\n",
       "    .dataframe thead th {\n",
       "        text-align: right;\n",
       "    }\n",
       "</style>\n",
       "<table border=\"1\" class=\"dataframe\">\n",
       "  <thead>\n",
       "    <tr style=\"text-align: right;\">\n",
       "      <th></th>\n",
       "      <th>Varenummer</th>\n",
       "      <th>Kapittel</th>\n",
       "      <th>Beskrivelse</th>\n",
       "    </tr>\n",
       "  </thead>\n",
       "  <tbody>\n",
       "    <tr>\n",
       "      <th>0</th>\n",
       "      <td>10059010</td>\n",
       "      <td>Grovfor til storfe</td>\n",
       "      <td>Hele maisplanter, med maiskolbe, som er finsni...</td>\n",
       "    </tr>\n",
       "    <tr>\n",
       "      <th>1</th>\n",
       "      <td>10062090</td>\n",
       "      <td>Fullkorns basmatiris 500 gram</td>\n",
       "      <td>Varen er ukokt, avskallet \"brown\" fullkorns ba...</td>\n",
       "    </tr>\n",
       "    <tr>\n",
       "      <th>2</th>\n",
       "      <td>10062090</td>\n",
       "      <td>Ris</td>\n",
       "      <td>Varen er avlange, avskallede rå riskorn av tha...</td>\n",
       "    </tr>\n",
       "    <tr>\n",
       "      <th>3</th>\n",
       "      <td>10062090</td>\n",
       "      <td>Ris</td>\n",
       "      <td>Varen ukokt, avskallet, upolert, \"svart jasmin...</td>\n",
       "    </tr>\n",
       "    <tr>\n",
       "      <th>4</th>\n",
       "      <td>10062090</td>\n",
       "      <td>Ris</td>\n",
       "      <td>Varen langkornet, avskallet, upolert ris, som ...</td>\n",
       "    </tr>\n",
       "  </tbody>\n",
       "</table>\n",
       "</div>"
      ],
      "text/plain": [
       "   Varenummer                       Kapittel  \\\n",
       "0    10059010             Grovfor til storfe   \n",
       "1    10062090  Fullkorns basmatiris 500 gram   \n",
       "2    10062090                            Ris   \n",
       "3    10062090                            Ris   \n",
       "4    10062090                            Ris   \n",
       "\n",
       "                                         Beskrivelse  \n",
       "0  Hele maisplanter, med maiskolbe, som er finsni...  \n",
       "1  Varen er ukokt, avskallet \"brown\" fullkorns ba...  \n",
       "2  Varen er avlange, avskallede rå riskorn av tha...  \n",
       "3  Varen ukokt, avskallet, upolert, \"svart jasmin...  \n",
       "4  Varen langkornet, avskallet, upolert ris, som ...  "
      ]
     },
     "execution_count": 3,
     "metadata": {},
     "output_type": "execute_result"
    }
   ],
   "source": [
    "column_names = ['Varenummer', 'Kapittel', 'Beskrivelse']  # Example column names, adjust as needed\n",
    "df = pd.read_csv(\"Bku.csv\", sep=';', header=None, names=column_names).loc[:100]\n",
    "\n",
    "df.head()"
   ]
  },
  {
   "cell_type": "code",
   "execution_count": 4,
   "metadata": {},
   "outputs": [
    {
     "name": "stdout",
     "output_type": "stream",
     "text": [
      "Index(['Varenummer', 'Kapittel', 'Beskrivelse'], dtype='object')\n",
      "Number of columns: 3\n"
     ]
    }
   ],
   "source": [
    "print(df.columns)\n",
    "print(f\"Number of columns: {len(df.columns)}\")\n"
   ]
  },
  {
   "cell_type": "code",
   "execution_count": 5,
   "metadata": {},
   "outputs": [
    {
     "data": {
      "text/plain": [
       "(101, 3)"
      ]
     },
     "execution_count": 5,
     "metadata": {},
     "output_type": "execute_result"
    }
   ],
   "source": [
    "df.dropna( inplace=True )\n",
    "df.shape"
   ]
  },
  {
   "cell_type": "code",
   "execution_count": 6,
   "metadata": {},
   "outputs": [
    {
     "data": {
      "text/html": [
       "<div>\n",
       "<style scoped>\n",
       "    .dataframe tbody tr th:only-of-type {\n",
       "        vertical-align: middle;\n",
       "    }\n",
       "\n",
       "    .dataframe tbody tr th {\n",
       "        vertical-align: top;\n",
       "    }\n",
       "\n",
       "    .dataframe thead th {\n",
       "        text-align: right;\n",
       "    }\n",
       "</style>\n",
       "<table border=\"1\" class=\"dataframe\">\n",
       "  <thead>\n",
       "    <tr style=\"text-align: right;\">\n",
       "      <th></th>\n",
       "      <th>Varenummer</th>\n",
       "      <th>Kapittel</th>\n",
       "      <th>Beskrivelse</th>\n",
       "      <th>VareBeskrivelse</th>\n",
       "    </tr>\n",
       "  </thead>\n",
       "  <tbody>\n",
       "    <tr>\n",
       "      <th>0</th>\n",
       "      <td>10059010</td>\n",
       "      <td>Grovfor til storfe</td>\n",
       "      <td>Hele maisplanter, med maiskolbe, som er finsni...</td>\n",
       "      <td>Grovfor til storfeHele maisplanter, med maisko...</td>\n",
       "    </tr>\n",
       "    <tr>\n",
       "      <th>1</th>\n",
       "      <td>10062090</td>\n",
       "      <td>Fullkorns basmatiris 500 gram</td>\n",
       "      <td>Varen er ukokt, avskallet \"brown\" fullkorns ba...</td>\n",
       "      <td>Fullkorns basmatiris 500 gramVaren er ukokt, a...</td>\n",
       "    </tr>\n",
       "  </tbody>\n",
       "</table>\n",
       "</div>"
      ],
      "text/plain": [
       "   Varenummer                       Kapittel  \\\n",
       "0    10059010             Grovfor til storfe   \n",
       "1    10062090  Fullkorns basmatiris 500 gram   \n",
       "\n",
       "                                         Beskrivelse  \\\n",
       "0  Hele maisplanter, med maiskolbe, som er finsni...   \n",
       "1  Varen er ukokt, avskallet \"brown\" fullkorns ba...   \n",
       "\n",
       "                                     VareBeskrivelse  \n",
       "0  Grovfor til storfeHele maisplanter, med maisko...  \n",
       "1  Fullkorns basmatiris 500 gramVaren er ukokt, a...  "
      ]
     },
     "execution_count": 6,
     "metadata": {},
     "output_type": "execute_result"
    }
   ],
   "source": [
    "\n",
    "df[\"VareBeskrivelse\"] = df[\"Kapittel\"] + df[\"Beskrivelse\"]\n",
    "df.head(2)\n"
   ]
  },
  {
   "cell_type": "code",
   "execution_count": 7,
   "metadata": {},
   "outputs": [
    {
     "name": "stdout",
     "output_type": "stream",
     "text": [
      "10059010\n",
      "Grovfor til storfe\n",
      "Hele maisplanter, med maiskolbe, som er finsnittet og ensilert/konservert uten tilsetninger i store plansiloer med plast på toppen. Dette blir lastet opp i lastebil og kjørt i bulk til Norge eller blir presset i runde baller med plast på utsiden. Brukes som grovfor til storfe.\n",
      "10062090\n",
      "Fullkorns basmatiris 500 gram\n",
      "Varen er ukokt, avskallet \"brown\" fullkorns basmatiris uten andre tilsetninger. Koketid ca. 25 minutt. Pakningsstørrelse: 500g.\n",
      "10062090\n",
      "Ris\n",
      "Varen er avlange, avskallede rå riskorn av thailandsk brun ris. Koketid 45 minutter. Pakket i plastpose à 1 kg.\n"
     ]
    }
   ],
   "source": [
    "for i in range(3):\n",
    "    print(df[\"Varenummer\"].iloc[i])\n",
    "    print(df[\"Kapittel\"].iloc[i])\n",
    "    print(df[\"Beskrivelse\"].iloc[i])\n",
    "    \n",
    "    \n"
   ]
  },
  {
   "cell_type": "markdown",
   "metadata": {},
   "source": [
    "## Henter text embedding der vi bruker openai text-embedding-ada-002 MODEL\n"
   ]
  },
  {
   "cell_type": "code",
   "execution_count": 8,
   "metadata": {},
   "outputs": [],
   "source": [
    "import openai\n",
    "\n",
    "#OpenAI API-nøkkelen\n",
    "openai.api_key = os.getenv('API_KEY')\n",
    "#et skrip som vektoriserer dataten og lagrer det. Det blir gjenbrukbart. ! 1 skript: Vektoriser dataen. 2: Lage nytt skriv\n",
    "#\n",
    "def get_embedding(text, model=\"text-embedding-ada-002\"):\n",
    "    text = text.replace(\"\\n\", \" \")\n",
    "    response = openai.Embedding.create(input=[text], model=model)\n",
    "    return response['data'][0]['embedding']\n"
   ]
  },
  {
   "cell_type": "code",
   "execution_count": 9,
   "metadata": {},
   "outputs": [],
   "source": [
    "sample_embedding = get_embedding(\"ribbe\")"
   ]
  },
  {
   "cell_type": "code",
   "execution_count": 10,
   "metadata": {},
   "outputs": [
    {
     "data": {
      "text/plain": [
       "1536"
      ]
     },
     "execution_count": 10,
     "metadata": {},
     "output_type": "execute_result"
    }
   ],
   "source": [
    "len(sample_embedding)"
   ]
  },
  {
   "cell_type": "code",
   "execution_count": 11,
   "metadata": {},
   "outputs": [],
   "source": [
    "df[\"NavnVareBeskrivelse\"] = df[\"VareBeskrivelse\"].apply(lambda x: get_embedding(x, model = 'text-embedding-ada-002'))\n",
    "df.to_csv(\"BeskrivelseEmbedded.csv\")"
   ]
  },
  {
   "cell_type": "markdown",
   "metadata": {},
   "source": [
    "## Legge til den nye embedded dataen i Elastic search indeksen\n"
   ]
  },
  {
   "cell_type": "code",
   "execution_count": 15,
   "metadata": {},
   "outputs": [
    {
     "data": {
      "text/plain": [
       "True"
      ]
     },
     "execution_count": 15,
     "metadata": {},
     "output_type": "execute_result"
    }
   ],
   "source": [
    "from elasticsearch import Elasticsearch\n",
    "\n",
    "es = Elasticsearch(\n",
    "    \"https://localhost:9200\",\n",
    "    basic_auth = (\"elastic\", \"X_f*F7lDbVi58VwaxG_b\"),\n",
    "    ca_certs = \"/Users/yousra/TollEtatenFinal/elasticsearch-8.12.1/config/certs/http_ca.crt\"\n",
    ")\n",
    "es.ping()"
   ]
  },
  {
   "cell_type": "code",
   "execution_count": 16,
   "metadata": {},
   "outputs": [],
   "source": [
    "from indexmapping import indexmapping\n",
    "import numpy as pd"
   ]
  },
  {
   "cell_type": "code",
   "execution_count": 51,
   "metadata": {},
   "outputs": [],
   "source": [
    "# es.indices.create(index = \"vareprodukter\", mappings = indexmapping)\n",
    "\n"
   ]
  },
  {
   "cell_type": "code",
   "execution_count": 17,
   "metadata": {},
   "outputs": [],
   "source": [
    "import pandas as pd\n",
    "import numpy as np  # Dette bør også inkluderes siden du ser ut til å bruke np.array senere\n",
    "\n",
    "embedding_df = pd.read_csv(\"BeskrivelseEmbedded.csv\", index_col = 0)\n",
    "embedding_df['NavnVareBeskrivelse'] = embedding_df.NavnVareBeskrivelse.apply(eval).apply(np.array)\n",
    "#Konverter det til en array format\n"
   ]
  },
  {
   "cell_type": "code",
   "execution_count": 18,
   "metadata": {},
   "outputs": [
    {
     "data": {
      "text/plain": [
       "[{'Varenummer': 10059010,\n",
       "  'Kapittel': 'Grovfor til storfe',\n",
       "  'Beskrivelse': 'Hele maisplanter, med maiskolbe, som er finsnittet og ensilert/konservert uten tilsetninger i store plansiloer med plast på toppen. Dette blir lastet opp i lastebil og kjørt i bulk til Norge eller blir presset i runde baller med plast på utsiden. Brukes som grovfor til storfe.',\n",
       "  'VareBeskrivelse': 'Grovfor til storfeHele maisplanter, med maiskolbe, som er finsnittet og ensilert/konservert uten tilsetninger i store plansiloer med plast på toppen. Dette blir lastet opp i lastebil og kjørt i bulk til Norge eller blir presset i runde baller med plast på utsiden. Brukes som grovfor til storfe.',\n",
       "  'NavnVareBeskrivelse': array([-0.01016815, -0.0189066 , -0.007576  , ..., -0.00318673,\n",
       "          0.00269402, -0.00641021])},\n",
       " {'Varenummer': 10062090,\n",
       "  'Kapittel': 'Fullkorns basmatiris 500 gram',\n",
       "  'Beskrivelse': 'Varen er ukokt, avskallet \"brown\" fullkorns basmatiris uten andre tilsetninger. Koketid ca. 25 minutt. Pakningsstørrelse: 500g.',\n",
       "  'VareBeskrivelse': 'Fullkorns basmatiris 500 gramVaren er ukokt, avskallet \"brown\" fullkorns basmatiris uten andre tilsetninger. Koketid ca. 25 minutt. Pakningsstørrelse: 500g.',\n",
       "  'NavnVareBeskrivelse': array([ 0.00476171, -0.02235592,  0.00530562, ..., -0.00360548,\n",
       "         -0.01937252,  0.0049441 ])},\n",
       " {'Varenummer': 10062090,\n",
       "  'Kapittel': 'Ris',\n",
       "  'Beskrivelse': 'Varen er avlange, avskallede rå riskorn av thailandsk brun ris. Koketid 45 minutter. Pakket i plastpose à 1 kg.',\n",
       "  'VareBeskrivelse': 'RisVaren er avlange, avskallede rå riskorn av thailandsk brun ris. Koketid 45 minutter. Pakket i plastpose à 1 kg.',\n",
       "  'NavnVareBeskrivelse': array([-0.01034731, -0.03703814,  0.01169025, ..., -0.01870708,\n",
       "         -0.00859478,  0.00715113])},\n",
       " {'Varenummer': 10062090,\n",
       "  'Kapittel': 'Ris',\n",
       "  'Beskrivelse': 'Varen ukokt, avskallet, upolert, \"svart jasmineris\". Ingredienser: rice berry. Emballasje: plastforpakning à 1 kg.',\n",
       "  'VareBeskrivelse': 'RisVaren ukokt, avskallet, upolert, \"svart jasmineris\". Ingredienser: rice berry. Emballasje: plastforpakning à 1 kg.',\n",
       "  'NavnVareBeskrivelse': array([ 0.00488517, -0.04725507,  0.01063765, ..., -0.02243171,\n",
       "         -0.01139326, -0.00149479])},\n",
       " {'Varenummer': 10062090,\n",
       "  'Kapittel': 'Ris',\n",
       "  'Beskrivelse': 'Varen langkornet, avskallet, upolert ris, som er rødbrun i fargen. Ingredienser: rød \"cargo\" ris. Emballasje: plastforpakning à 1 kg.',\n",
       "  'VareBeskrivelse': 'RisVaren langkornet, avskallet, upolert ris, som er rødbrun i fargen. Ingredienser: rød \"cargo\" ris. Emballasje: plastforpakning à 1 kg.',\n",
       "  'NavnVareBeskrivelse': array([ 0.00031694, -0.03636333,  0.00917678, ..., -0.01529904,\n",
       "         -0.01309741,  0.01180816])}]"
      ]
     },
     "execution_count": 18,
     "metadata": {},
     "output_type": "execute_result"
    }
   ],
   "source": [
    "docs = embedding_df.to_dict(\"records\")\n",
    "docs[:5]"
   ]
  },
  {
   "cell_type": "code",
   "execution_count": 19,
   "metadata": {},
   "outputs": [],
   "source": [
    "for doc in docs:\n",
    "    try:\n",
    "        es.index(index = \"vareprodukter\", document = doc, id = doc[\"Varenummer\"])\n",
    "    except Exception as e:\n",
    "        print(e)"
   ]
  },
  {
   "cell_type": "code",
   "execution_count": 20,
   "metadata": {},
   "outputs": [
    {
     "data": {
      "text/plain": [
       "ObjectApiResponse({'count': 22, '_shards': {'total': 1, 'successful': 1, 'skipped': 0, 'failed': 0}})"
      ]
     },
     "execution_count": 20,
     "metadata": {},
     "output_type": "execute_result"
    }
   ],
   "source": [
    "es.count(index = \"vareprodukter\")"
   ]
  },
  {
   "cell_type": "markdown",
   "metadata": {},
   "source": [
    "## Søk etter data fra indekset\n"
   ]
  },
  {
   "cell_type": "code",
   "execution_count": 21,
   "metadata": {},
   "outputs": [],
   "source": [
    "input_keyword = \"ukokt ris\" \n",
    "#Her konverteres søketeksten til inn til vector\n",
    "vector_of_input_keyword = get_embedding(input_keyword)"
   ]
  },
  {
   "cell_type": "code",
   "execution_count": 23,
   "metadata": {},
   "outputs": [],
   "source": [
    "#Nå filtrerer vi de semantiske resultatene.\n",
    "\n",
    "q1 = {\n",
    "    \"knn\": {\n",
    "        \"field\" : \"NavnVareBeskrivelse\", #Sender query vector til søkefeltet også til vector\n",
    "        \"query_vector\" : vector_of_input_keyword,\n",
    "        \"k\" : 10, #Hvor mange resultater vi ønsker\n",
    "        \"num_candidates\" : 1000 #hvor mange kandidter som kommer til å blir lagt til i algoritmen.\n",
    "    },\n",
    "\n",
    "    \"_source\": [\"Varenummer\", \"Kapittel\", \"Beskrivelse\"]\n",
    "} \n",
    "\n",
    "\n",
    "#Eventuelle filter\n",
    "\n",
    "#filter_query = {}\n"
   ]
  },
  {
   "cell_type": "markdown",
   "metadata": {},
   "source": [
    "## PRøver å filtrere her fra search query"
   ]
  },
  {
   "cell_type": "code",
   "execution_count": 24,
   "metadata": {},
   "outputs": [
    {
     "name": "stdout",
     "output_type": "stream",
     "text": [
      "['Grovfor til storfe', 'Fullkorns basmatiris 500 gram', 'Ris', 'Ukokt ris', 'Basmatiris 500 gram', 'Ris/ Paella sett', 'ris', 'Ris ukokt', 'Ris (Jasmin)', 'Ris / Paella sett', 'Polert ris', 'Middagssett - risrett', 'Indisk middagssett - risrett', 'korn', 'Quinoa - tørket', 'Quinoa', 'mel', 'Melblanding', 'Hvetemel', 'Finmalt spelt/hvetemel', 'Finmalt hvete/speltmel', 'finmalt hvitt hvete/spelt mel', 'Finmalt hvetemel', 'Finmalt mel', 'Mel', 'Hvetemel, finmalt', 'Maismel', 'rismel', 'Rismel', 'Bokhvete mel', 'Hirsemel, finmalt', 'Glutenfritt håndtverksmjøl, teff', 'hirse mel Korakan', 'gryn', 'Semulegryn', 'Maismel, grovt', 'Havremel', 'havregryn', 'Havregryn', 'Quinoaflak', 'Valset mais flak', 'Speltflak', 'Hirseflak', 'Bokhvete', 'Avskallet korn av hvete', 'Potetmos', 'Potetpulver, lufttørket', 'Potetpulver,tørket', 'Potetflak', 'Søtpotetpulver', 'Pulver av solbær', 'Aprikospulver', 'Pulver', 'Sitrus pulver', 'Nypepulver', 'Sitrusfiber', 'Aronia pulver', 'Kokosmel', 'Pulver av Baobab fruktkjøtt', 'Eplefiber', 'Pulverisert frysetørket bær', 'Mel av eple', 'Fruktpulver']\n",
      "[10059010, 10062090, 10063080, 10064080, 10081090, 10085000, 11010000, 11022090, 11029002, 11029009, 11031100, 11031390, 11031990, 11041200, 11041900, 11042902, 11042909, 11051000, 11052000, 11061090, 11062000, 11063090]\n"
     ]
    }
   ],
   "source": [
    "kapittel_list = embedding_df[\"Kapittel\"].drop_duplicates().to_list()\n",
    "print(kapittel_list)\n",
    "varenummer_list = embedding_df[\"Varenummer\"].drop_duplicates().to_list()\n",
    "print(varenummer_list)\n",
    "beskrivelse_list = embedding_df[\"Beskrivelse\"].drop_duplicates().to_list()"
   ]
  },
  {
   "cell_type": "code",
   "execution_count": 25,
   "metadata": {},
   "outputs": [],
   "source": [
    "input_keyword = \"ukokt ris\"\n",
    "vector_of_input_keyword = get_embedding(input_keyword)"
   ]
  },
  {
   "cell_type": "markdown",
   "metadata": {},
   "source": [
    "## her skal vi gi prompt spørring"
   ]
  },
  {
   "cell_type": "code",
   "execution_count": 22,
   "metadata": {},
   "outputs": [
    {
     "data": {
      "text/plain": [
       "'dataen min ligger nå i elastic search med varenummer, kapitler, beskrivelse etc.\\nVarenummerene vi har er[10059010, 10062090, 10063080, 10064080, 10081090, 10085000, 11010000, 11022090, 11029002, 11029009, 11031100, 11031390, 11031990, 11041200, 11041900, 11042902, 11042909, 11051000, 11052000, 11061090, 11062000, 11063090]. Kapitler vi har er [\\'Grovfor til storfe\\', \\'Fullkorns basmatiris 500 gram\\', \\'Ris\\', \\'Ukokt ris\\', \\'Basmatiris 500 gram\\', \\'Ris/ Paella sett\\', \\'ris\\', \\'Ris ukokt\\', \\'Ris (Jasmin)\\', \\'Ris / Paella sett\\', \\'Polert ris\\', \\'Middagssett - risrett\\', \\'Indisk middagssett - risrett\\', \\'korn\\', \\'Quinoa - tørket\\', \\'Quinoa\\', \\'mel\\', \\'Melblanding\\', \\'Hvetemel\\', \\'Finmalt spelt/hvetemel\\', \\'Finmalt hvete/speltmel\\', \\'finmalt hvitt hvete/spelt mel\\', \\'Finmalt hvetemel\\', \\'Finmalt mel\\', \\'Mel\\', \\'Hvetemel, finmalt\\', \\'Maismel\\', \\'rismel\\', \\'Rismel\\', \\'Bokhvete mel\\', \\'Hirsemel, finmalt\\', \\'Glutenfritt håndtverksmjøl, teff\\', \\'hirse mel Korakan\\', \\'gryn\\', \\'Semulegryn\\', \\'Maismel, grovt\\', \\'Havremel\\', \\'havregryn\\', \\'Havregryn\\', \\'Quinoaflak\\', \\'Valset mais flak\\', \\'Speltflak\\', \\'Hirseflak\\', \\'Bokhvete\\', \\'Avskallet korn av hvete\\', \\'Potetmos\\', \\'Potetpulver, lufttørket\\', \\'Potetpulver,tørket\\', \\'Potetflak\\', \\'Søtpotetpulver\\', \\'Pulver av solbær\\', \\'Aprikospulver\\', \\'Pulver\\', \\'Sitrus pulver\\', \\'Nypepulver\\', \\'Sitrusfiber\\', \\'Aronia pulver\\', \\'Kokosmel\\', \\'Pulver av Baobab fruktkjøtt\\', \\'Eplefiber\\', \\'Pulverisert frysetørket bær\\', \\'Mel av eple\\', \\'Fruktpulver\\'] Vi har også beskrivelser [\\'Hele maisplanter, med maiskolbe, som er finsnittet og ensilert/konservert uten tilsetninger i store plansiloer med plast på toppen. Dette blir lastet opp i lastebil og kjørt i bulk til Norge eller blir presset i runde baller med plast på utsiden. Brukes som grovfor til storfe.\\', \\'Varen er ukokt, avskallet \"brown\" fullkorns basmatiris uten andre tilsetninger. Koketid ca. 25 minutt. Pakningsstørrelse: 500g.\\', \\'Varen er avlange, avskallede rå riskorn av thailandsk brun ris. Koketid 45 minutter. Pakket i plastpose à 1 kg.\\', \\'Varen ukokt, avskallet, upolert, \"svart jasmineris\". Ingredienser: rice berry. Emballasje: plastforpakning à 1 kg.\\', \\'Varen langkornet, avskallet, upolert ris, som er rødbrun i fargen. Ingredienser: rød \"cargo\" ris. Emballasje: plastforpakning à 1 kg.\\', \\'Varen er ukokt basmati ris uten andre tilsetninger, som kun har gjennomgått en prosess der den renses og poleres uten noen form for varmebehandling. Oppgitt koketid på emballasjen er 10 minutter. Risen foreligger i en eske med 4 porsjonspakninger for 2 personer, såkalt «boil in bag».\\', \\'Varen er polert, hvit basmatiris. Ikke forkokt. Bruksområde: Middagsris til kjøtt, fisk og grønnsaker. Risen skal ifølge etiketten koke i ca. 15 minutter og stå og trekke i ca. 5 minutter. Risen er pakket i en pappeske med nettovekt 700g.\\', \\'Varen er polert ris, ikke forkokt, til bruk i sushiretter. Emballasje: pappforpakning à 1 kg, inneholdende to plastforpakninger à 500 gram.\\', \\'Varen er ukokt, helslipt og polert basmatiris uten andre tilsetninger. Koketid ca. 10-12 minutter. Pakningsstørrelse: 500g.\\', \\'Varen er ukokt og helslipt ris. Varen skal kokes i 45 minutter. Varen er embalert i plastpose a 1 kg.\\', \\'Varen er ukokt og helslipt ris (100 %) uten tilsetninger (koketid 25-30 min). Varen er pakket i plastpose a 1 kg.\\', \\'Varen er ukokt, rundkornet, hvit ris som er velegnet til bruk i retten paella. Risen har høy absorpsjonskapasitet som gjør at risen er i stand til å tilføre mere smak og væske enn andre rissorter. Den har koketid på cirka 16 minutter. Risen foreligger i en pakning / sett for fremstilling av paella som består av ris (spansk \"Bomba\" ris), exstra virgin olivenolje, 1 pose krydder miks og en steke/kokepanne i metall velegnet for tillaging av f.eks. paella.\\', \\'Varen er ukokt, polert jasminris. Koketid 18 minutt og 10 min svelling etterpå. Risen foreligger i pakning à 20 kg.\\', \\'Varen er ukokt jasmin ris uten andre tilsetninger, som kun gjennomgått en prosess der den renses og poleres uten noen form\\\\r\\\\nfor varmebehandling. Oppgitt koketid på emballasjen er 10 minutter. Risen lforeligger i en eske med 4 porsjonspakninger for 2 personer, såkalt «boil in bag».\\', \\'Varen er ukokt, slipt ris, som foreligger som matthvite og ugjennomsiktige korn. Ingredienser: søt ris. Emballasje: forpakning à 20 kg.\\', \\'Varen er polert ukokt, ris ment til matlaging. Ingredienser: Ris. Varen emballeres i 20kg plastsekker.\\', \\'Varen er ukokt helslipt Jasmin ris til bruk i matlaging. Ingredienser: Jasmin ris. Ved tillaging i riskoker, skal risen kokes til vannet er borte. Deretter skal den hvile i dampen i 15 - 20 min. Ved kok i micro: 20-22 min. Produktet kommer i sekk på 20 kg.\\', \\'Varen er ukokt, rundkornet, hvit ris som er velegnet til bruk i retten paella. Risen har høy absorpsjonskapasitet som gjør at risen er i stand til å tilføre mere smak og væske enn andre rissorter. Den har koketid på cirka 16 minutter. Risen foreligger i en pakning / sett for fremstilling av paella som består av ris, jomfru olivenolje, krydder miks og en steke/kokepanne i metall velgenet for tillaging av paella.\\', \\'Varen er polert hvit rundkornet ris med bruddris, ukokt. Ingredienser: polert hvit rundkornet ris, bruddris. Type \"SOLE\". Produktet egner seg godt til fremstilling av supper og desserter. Koketid er 10-12 min. Varen kommer i papirposer, type Big bags 825 kg.\\', \\'Varen er et sett bestående av fire deler for tillaging av japansk middagsrett.Ris, paneringsblanding, sausblanding og toppingkrydder pakket i hver sin pose. Ingredienser Ris: jasminris. Blanding for teriyakisaus (sukker, soyasaus,  maisstivelse, krydder (ingefær, chilipepper, sort pepper, kajennepepper, spisskummen, oregano, koriander, allehånde, nellik)), salt, tomat, hvitløk, smak, ananaskonsentrat, gjærekstrakt, løk, fargestoff (sukkerkulør), rapsolje, sitronsyre, lime, maltodekstrin. Blanding for teriyaki panering: maisstivelse, sesamfrø, salt, sukker, krydder (pepper, ingefær), rapsolje, hvitløk, lime, maltodekstrin. Teriyaki topping krydderblanding: krydder (svart pepper, kajennepepper, ingefær, spisskummen, allehånde, nellik), paprika, salt, persille, hvitløk. Hele pakken veier 372g.\\', \\'Varen er et sett bestående av fem deler for tillaging av Indisk matrett. Ris, marinade, sausblanding, toppkrydderblanding pakket i hver sin pose og en boks med kokosmelk. Ingredienser: basmatiris, rød pepper, rapsolje, korianderblader, hvitløk, chilipepper. Sauspulver: krem, yoghurt, krydder, maisstivelse, melk, salt, solsikkeolje, tomat, gjærekstrakt, glukosesirup, urter, sitrongress, fargestoff, (rødbete, paprikaekstrakt), modifisert maisstivelse, løk, sitron, sukker. Marinade: maltodekstrin, koriander, ingefær, pepper, spisskummen, kardemomme, laurbærblad, allehånde, nellik. Topping krydderblanding: kajennepepper, koriander, ingefær, salt, pepper, spisskummen, muskat, kardemomme, kanel, laurbærblad, allehånde, nellik. Kokosmelk: kokosnøttmelk, vann, konserveringsmiddel E224, stabilisator (E466, E460). Pakken har en nettovekt på 500g.\\', \\'Varen er et sett bestående av fire deler for tillaging av kinesisk middagsrett. Ris, Szechuan marinadeblanding, topping kryddermiks pakket i hver sin pose og et glass med wok saus. Ingredienser: ris: kinesisk rundkornet ris. Szechuan marinadeblanding: potetstivelse, salt, hvitløk, chilipepper, natriumkarbonat, ingefær. Szechuan woksaus: vann, fruktose, rød paprika, tomatpure, rødvinseddik, salt, fortykningsmiddel (xantan), chilipepper, konserveringsmidler, (kaliumsorbat, natriumbenzoat), hvitløk, fargestoff (paprikaekstrakt), pepper ekstrakt.Topping krydderblanding: salt, hvitløk, chilipepper, løk, jalapeñospepper, fargestoff (paprikaekstrakt). Pakken veier tilsammen 494g.\\', \\'Varen er ukokt bruddris (brukket ris). Ingredienser: ris. Emballasje: forpakning à 4,5 kg.\\', \\'100 % økologisk bokhvete\\', \\'Varen er 100% tørket quinoa. Emballeres i 25 kg sekker.\\', \\'Varen er ukokt, hvit quinoa fullkorn. Varen foreligger i en pappeske inneholdende to pakninger quinoa à 100g.\\', \\'Varen er quinoa korn som ifølge etiketten er et velegnet alternativ til f.eks ris eller pasta. Pakning med nettovekt 300g.\\', \\'Varen er ekstra finmalt hvetemel til bruk i bakst. Ingredienser: 100 % hvetemel.\\\\r\\\\nEmballasje: Pose á 1 kg.\\', \\'Varen er en melblanding som egner seg til pizzaproduksjon ved indirekte eller direkte metode, med deigmodning fra 24 til\\\\r\\\\n72 timer.Ingredienser: type 0 vanlig hvetemel , re-malt durumhvete semolina , type 1 hvetemel , hvetekim , rugsurdeig   Forpakning 12,5 kg papirpose\\', \\'Varen er finmalt hvetemel. Ingredienser: hvetemel. Emballasje: plastpose à 1000 gram.\\', \\'Varen er et fint konditor hvetemel til bruk i næringsmiddelproduksjon. Ingredienser: hvetemel, melbehandlingsmiddel (askorbinsyra). Varen er pakket i metallbeholder, bulk.\\', \\'Varen er fint hvetemel som er varmebehandlet for å gi lavt protein innhold, lavt aske innhold og gi spesiell gelatininsering.Emballert i sekk à 25kg.\\', \\'Varen er et finmalt blandingshvetmel. Ingredienser: finmalt fullkorn hvete, hvitt speltmel. Emballert i papirpose à 1 kg.\\', \\'Varen er finmalt hvetemel uten tilsetninger som foreligger i papirpakning med nettovekt 1 kg.\\', \\'Varen er et  finmalt hvete/speltmel. Emballert i pose à 1 kg.\\', \\'Varen er steinmalt, hvitt hvete/speltmel. Emballert i papirpose à 1 kg.\\', \\'Varen er et finmalt hvetemel til bruk som \"pizzamel\". Ingredienser: hvetemel (tipo-00). Emballasje: sekk à 25 kg.\\', \\'Varen er et finmalt hvetemel til bruk som \"pizzamel\". Ingredienser: durumhvete (semolina). Emballasje: sekk à 25 kg.\\', \\'Hvetemel, brukes til baking. Pakkes i plastposer av 1000 gram\\', \\'Varen angis som hvetemel.\\\\r\\\\nIngredienser, jf fremlagt ingrediensdeklarasjon: Hvetemel 100%.\\\\r\\\\nI plastemballasje, nettovekt på 1 kg.\\', \\'Varen er finmalt hvetemel med lavt gluteninnhold, sampakket med en pose med tørrgjær. Ingredienser melpose: hvetemel. Emballasje: plastforpakning à 1 kg.\\', \\'Varen angis som hvetemel til brødbaking. Foreligger som finmalt hvetemel, i plastpose, nettovekt 1 kg. \\\\r\\\\nInnhold, jf fremlagt vareprøve: Hvetemel 100%.\\', \\'Varen angis som hvetemel til kakebaking. Foreligger som finmalt hvetemel, i plastpose, nettovekt 1000 gram. \\\\r\\\\nInnhold, jf fremlagt vareprøve: Hvetemel 100%.\\', \\'Varen er hvetemel. Innhold: hvetemel, askorbinsyre, enzymer (hjelpemiddel under fremstillingen). Varen skal utgjøre del av ingrediensene i produksjon av pretzels eller bagels. Leveres i sekk à 20 kg.\\', \\'Varen angis som hvetemel. Foreligger som finmalt hvetemel, i plastpose, nettovekt 1000 gram. \\\\r\\\\nInnhold, jf fremlagt vareprøve: Hvetemel 100%.\\', \\'Varen består av finmalt hvetemel.Ingredienser: 100% Hvetemel.Produktet er oppbevart i plastemballasje á 1kg.\\', \\'Varen er finmalt hvetemel.Pakket i plast à 1 kg.\\', \\'Varen er hvetemel.\\', \\'Varen er finmalt maismel som skal benyttes i næringsmiddelindustrien.\\', \\'Varen er finmalt maismel.Pakket i plast á 1kg.\\', \\'100 % økologisk maismel\\', \\'Varen er finmalt  maismel.Pakket i  plastemballasje  á 1kg.\\', \\'100 % økologisk bokhvetemel\\', \\'Varen er 100 % rismel. Melet er rødlig og kommer i pose, nettoinnhold 1 kg.\\', \\'Varen angis som kleberismel. Foreligger som finmalt mel, i plastpose, nettovekt 400 gram.\\\\r\\\\nIngredienser, jf emballasje: 100% kleberismel.\\', \\'Varen er rismel, finmalt. Ingredienser, kf emballasje: 100% ris. \\\\r\\\\nI plastpose, nettovekt 400 gram.\\', \\'100% økologisk ris mel av brun ris\\', \\'Varen er finmalt bokhvete uten andre tilsetninger som foreligger i pakning med nettoinnhold 500g.\\', \\'Varen angis som brunt hirsemel, fullkorn, finmalt og glutenfritt. I plastpose, nettovekt 425 gram.\\', \\'Varen er finmalt mel av korn fra planten amaranth.\\', \\'100% brunt økologisk Teff mel\\', \\'Teff er et glutenfritt mel av korn. Ingredienser: hvit teff.\\', \\'Varen er finmalt mel fra hirse, (Korakan, Eleusine coracana), også kjent som ragi, Hirse er en gruppe av forskjellige kornplanter med små korn. Veksten tørkes i sola, før den males og blir til mel. Varen kommer i pose, nettoinnhold 1 kg.\\', \\'Varen er grovmalt semulemel av hvete uten andre tilsetninger som foreligger i pakning med nettovekt 1 kg.\\', \\'Varen er semulegryn (gryn av durumhvete). Emballasje: plastforpakning à 1 kg.\\', \\'Varen angis som økologisk polenta - som maismel, grovt. I plastpose, nettovekt 500 gram.\\', \\'Varen er havremel som er glutenfritt og økologisk og er et mel som skal brukes til bakst. Melet kommer i poser à 240 g. Melet har et stivelsesinnhold over 45%, et askeinnhold under 5% og mengde som passerer gjennom en sikteduk med maskevidde 355 mikron er under 80%. Melet kommer i poser à 240 g.\\', \\'Varen er valsede, hele gryn av havre. Havregrynet kan tilsettes vann eller melk og kokes i 3-5 min. for fremstilling av havregrøt. Pakning med nettovekt 500g.\\', \\'Varmebehandlet havregryn som er stålkuttet, steamet og flaket.\\', \\'Varen angis som quinoaflak, fullkorn. I plastpose, nettovekt 250 gram.\\\\r\\\\nIngredienser, jf emballasje: 100% økologiske quinoaflak.\\', \\'Varen er maiskorn som er valset til flak (flaket mais). Maisen blir fuktet med vann, dampet og valset. Ingredienser: mais (Zea mays subsp. Mays). Emballasje: plastforpakning à 1, 5 og 20 kg.\\', \\'Varen er flak av spelt som ved å tilsette vann eller evt. melk benyttes til matretter som Müsli,grøt eller suppe. Ingredienser Speltflak . Emballert i hermetikkboks à 900 g.\\', \\'Varen angis som fullkorns hirseflak. I plastpose, nettovekt 475 gram. \\\\r\\\\nIngredienser, jf emballasje: Fullkorns hirseflak.\\', \\'Varen er avskallet, grovknust korn av bokhvete uten andre tilsetninger. Pakning med nettovekt 1 kg.\\', \\'Varen er avskallet bokhvete, ikke videre bearbeidet. Pakket i 25 kg sekk.\\', \\'Varen er byggryn. Pakning med nettovekt 1 kg.\\', \\'Varen er avskallet korn av hvete. Ingredienser: hvete. Emballasje: plastforpakning à 1000 gram.\\', \\'Varen er potetgranulat som foreligger i pulverform. Ingredienser: Poteter, emulgator E471, stabilisator E450,  antioksidant E304. Produksjonsprosessen består av følgende steg: Vasking, skrelling, kutting, koking, granulering og tørking av poteter.\\', \\'Potetpulver, kuttstørrelse 0,5 mm.\\', \\'Varen er et hvitt pulver av tørket potet som skal blandes med bl.a vann og bli potetmos. Ingredienser: potet. Emballert i hermetikkboks à  750 gram.\\', \\'Varen er potetgranulat som foreligger i pulverform. Ingredienser: poteter,  emulgator E471,  stabilisator E450,  antioksidant E304. Produksjonsprosessen består av følgende steg: Vasking, skrelling, kutting, koking, granulering og tørking av poteter.\\', \\'Varen er potetflak på 10x10x2 millimeter. Poteter vaskes, kuttes og vakumtørkes. Innhold: potet (Solanum tuberosum).\\', \\'100% økologisk kikert mel\\', \\'Varen er pulver av lilla søtpotet. Brukes til farging av bakverk og matlaging. Innføres i 1 kg plastemballasje.\\', \\'Varen er et pulver av tørkede solbær til bruk i næringsmiddel industrien. Foreligger som et vinrødt/sort pulver fritt for klumper med en typisk solbærsmak. Ingredienser:  solbær. Emballasje: kartonger á 15 kg med PE innerpose.\\', \\'Varen er et fint pulver av aprikos, frysetørket, som skal brukes i næringsmiddelproduksjon. Emballasje: aluminiumspose à 15 kg med ytterforpakning av papp.\\', \\'Varen er et pulver av tindvedbær. Tindvedbærene er tørket, knust og malt til pulver. Emballasje: forpakning à 100 gram.\\', \\'Varen er sitrusfiber i form av et off-white pulver med en mild sitruslukt til bruk i matvare- og drikkevareindustrien for å støtte inntaket av kostfiber. Sitrusfiber er et biprodukt fra juiceindustrien. Varen er pakket i papirsekker à 15 kg.\\', \\'Varen er et nypepulver som er malt av hele nyper. Ingredienser: nypepulver av hele nyper (Rosa canina). Anbefalt bruk: 1-2 ss (15-30ml / 9-18g) daglig. Blandes med vann, juice, smoothies eller yoghurt. Emballasje: forpakning à 300 gram.\\', \\'Varen er sitrusfiber i pulverform fremstilt fra tørket sitrusskall. Produktet skal benyttes som ingrediens i produksjon av næringsmiddel. Pulveret er off-white i farge, og har en mild duft av sitrus. Varen er pakket i sekk på 15 kg.\\', \\'Varen er pulver av svartsurbær (aronia). Kan brukes som ingrediens i næringsmidler.\\', \\'Varen er kokosmel fremstilt av fersk, knust fruktkjøtt fra kokosnøtt. Melet er tørket, fettredusert og finmalt. Til baking av kaker og mel.\\', \\'Varen er pulver fra baobab fruktkjøtt som skal brukes i kosttilskudd. Fremstilles ved at det ytre skallet brytes, fruktkjøttet tas ut, separeres, males og siles. Emballasje: plastforpakning.\\', \\'Varen angis som eplefiber fremstilt fra tørkede epler - angis til bruk som fiberberikelse i næringsmiddelindustrien. Foreligger som et finmalt beige/lysebrunt pulver med fruktig aromatisk smak, i 25 kgs papirsekk med innvendig plast.\\', \\'Varen er pulver av frysetørket jordbær, som blant annet skal brukes som strøssel. Emballasje: plastforpakning.\\', \\'Varen er et mel fremstilt av epler. Foreligger som et finmalt lysebrunt pulver med lukt og smak av eple. Varen brukes som fibertilsetning i produksjon av næringsmidler. Varen fremstilles ved at tørkede pressede epler (fruktkjøtt og skall) males opp og siles. Emballert i plastsekker.\\', \\'Varen er et kokosmel, fremstilt av fersk kokosnøttkjøtt som er tørket og finmalt. Kokosmel kan brukes til å erstatte hvetemel og andre typer kornbaserte mel i bakevarer og andre oppskrifter. Ingredienser: kokosmel. Emballasje: pose à 250, 550 og 1000 gram.\\', \\'Varen er et frysetørret fruktpulver av pitaya. Pulver har en rosa/lilla farge og skal brukes som et supplement for ernæring og/eller farge. Inneholder iht. vedlagte produktspesifikasjon: pitaya pulver. Emballasje: lukket plastpose à 100 og 1000 gram.\\']. Baser på søkefeltet, fi meg en json output som følger: \"\\n{\\n\"varenummer\": \"skal egt skrive noe her. Gi not found etc hvos spørring et eller annet\"\\n\"kapittel\":\"Skal egt skrive noe her\"\\n\"Beskrivelse\": \"her og\" \\n}\\n\\nusers query : ukokt ris\\n'"
      ]
     },
     "execution_count": 22,
     "metadata": {},
     "output_type": "execute_result"
    }
   ],
   "source": [
    "prompt = f\"\"\"dataen min ligger nå i elastic search med varenummer, kapitler, beskrivelse etc.\n",
    "Varenummerene vi har er{varenummer_list}. Kapitler vi har er {kapittel_list} Vi har også beskrivelser {beskrivelse_list}. Baser på søkefeltet, fi meg en json output som følger: \"\n",
    "{{\n",
    "\"varenummer\": \"skal egt skrive noe her. Gi not found etc hvos spørring et eller annet\"\n",
    "\"kapittel\":\"Skal egt skrive noe her\"\n",
    "\"Beskrivelse\": \"her og\" \n",
    "}}\n",
    "\n",
    "users query : {input_keyword}\n",
    "\"\"\"\n",
    "\n",
    "prompt"
   ]
  },
  {
   "cell_type": "code",
   "execution_count": 38,
   "metadata": {},
   "outputs": [],
   "source": [
    "context_prompt = \"\"\"Du er en Tolltariffside i Norge som profesjonelt klassifiserer varer.\n",
    "Din rolle blir å gi meg riktig varenummer utifra det jeg søker etter. \n",
    "Jeg er en importør som skal søke etter varer i din nettside og det er kritisk at jeg får korrekt varenummer ettersom dette skal importeres fra utlandet til Norge.\n",
    "Du skal først gi meg varens posisjon (\"heading\" i HS-nomenklaturen\") på fire sifre,\n",
    "så skal du gi underposisjonen(\"subheading\" i HS-nomenklaturen). Du skal gi meg de 6 første sifrene som er internasjonale uten punktum og mellomrom: [15042011].\n",
    "Deretter gir du meg det 8-sifrede formatet, der de to siste sifrene er det som tilsvarer det norske, altså et tolltariffnummer. Disse ekstra to sifrene reflekterer nasjonale behov for klassifisering av varer.\n",
    "Du skal legge til de to sifrene ettersom de fleste land legger til ytterligere sifre for å gjøre klassifiseringen mer spesifikk\n",
    "De to nasjonale sifrene benyttes når det er behov for å skille ut varer med forskjellige tollavgiftsatset,, særavgifter, \n",
    "innførsels- og utførselsrestriksjoner, og til statistikk over utenrikshandelen.\n",
    "Gi meg minst tre eksempler som kan være aktuelle for varebeskrivelsen.\n",
    "\n",
    "Eksempel:\n",
    "- av svin \n",
    "- - - \"Bacon crisp\"\n",
    "Posisjon (4 siffer): 1602\n",
    "Underposisjon (6 siffer): 160249\n",
    "Nasjonalt varenummer (8 siffer): 16024910\n",
    "\n",
    "Denne nettsiden er rettet mot alle individer som skal eksportere varer fra utlandet \n",
    "til Norge som ønsker å ha klar oversikt over tollavgiftsatset, særavgifter, innførsels- og utførselsrestriksjoner,\n",
    " og til statistikk over utenrikshandelen.\n",
    "\n",
    "Varebeskrivelse:\n",
    "\"\"\""
   ]
  },
  {
   "cell_type": "code",
   "execution_count": 36,
   "metadata": {},
   "outputs": [
    {
     "data": {
      "text/plain": [
       "'response = client.chat.completions.create(\\n    model = \"gbt-3.5-turbo-1106\",\\n    response_format = { \"type\": \"json_object\"},\\n    messages = [\\n        {\"role\": \"system\", \"content\": \"En ganske hjelpsom assistent lagetfor å gi output i JSON format\"},\\n        {\"role\": \"user\", \"content\": prompt}\\n    ]\\n)\\n\\nresponse'"
      ]
     },
     "execution_count": 36,
     "metadata": {},
     "output_type": "execute_result"
    }
   ],
   "source": [
    "\"\"\"response = client.chat.completions.create(\n",
    "    model = \"gbt-3.5-turbo-1106\",\n",
    "    response_format = { \"type\": \"json_object\"},\n",
    "    messages = [\n",
    "        {\"role\": \"system\", \"content\": \"En ganske hjelpsom assistent lagetfor å gi output i JSON format\"},\n",
    "        {\"role\": \"user\", \"content\": prompt}\n",
    "    ]\n",
    ")\n",
    "\n",
    "response\"\"\""
   ]
  },
  {
   "cell_type": "code",
   "execution_count": 37,
   "metadata": {},
   "outputs": [
    {
     "name": "stdout",
     "output_type": "stream",
     "text": [
      "{\n",
      "  \"id\": \"chatcmpl-8zS4BRCsTMJtcaLCkrzYv1WYwkhMc\",\n",
      "  \"object\": \"chat.completion\",\n",
      "  \"created\": 1709656587,\n",
      "  \"model\": \"gpt-3.5-turbo-0125\",\n",
      "  \"choices\": [\n",
      "    {\n",
      "      \"index\": 0,\n",
      "      \"message\": {\n",
      "        \"role\": \"assistant\",\n",
      "        \"content\": \"{\\n    \\\"eksempel_1\\\": {\\n        \\\"posisjon\\\": 1006,\\n        \\\"underposisjon\\\": 100620,\\n        \\\"nasjonalt_varenummer\\\": 10062010,\\n        \\\"varebeskrivelse\\\": \\\"Ris av langkornet basmati-typen\\\"\\n    },\\n    \\\"eksempel_2\\\": {\\n        \\\"posisjon\\\": 0713,\\n        \\\"underposisjon\\\": 071390,\\n        \\\"nasjonalt_varenummer\\\": 07139085,\\n        \\\"varebeskrivelse\\\": \\\"T\\u00f8rket chilipepper\\\"\\n    },\\n    \\\"eksempel_3\\\": {\\n        \\\"posisjon\\\": 2005,\\n        \\\"underposisjon\\\": 200510,\\n        \\\"nasjonalt_varenummer\\\": 20051060,\\n        \\\"varebeskrivelse\\\": \\\"Tomatpur\\u00e9 eller tomatmos\\\"\\n    }\\n}\"\n",
      "      },\n",
      "      \"logprobs\": null,\n",
      "      \"finish_reason\": \"stop\"\n",
      "    }\n",
      "  ],\n",
      "  \"usage\": {\n",
      "    \"prompt_tokens\": 554,\n",
      "    \"completion_tokens\": 204,\n",
      "    \"total_tokens\": 758\n",
      "  },\n",
      "  \"system_fingerprint\": \"fp_2b778c6b35\"\n",
      "}\n"
     ]
    }
   ],
   "source": [
    "\n",
    "# Her definerer vi en funksjon for å skape chat-completions\n",
    "def create_chat_completion(prompt):\n",
    "    response = openai.ChatCompletion.create(\n",
    "        model=\"gpt-3.5-turbo\",\n",
    "        messages=[\n",
    "            {\"role\": \"system\", \"content\": \"Du er en svært intelligent assistent laget for å gi output i JSON format.\"},\n",
    "            {\"role\": \"user\", \"content\": context_prompt + prompt}\n",
    "        ]\n",
    "    )\n",
    "    return response\n",
    "\n",
    "# Anta at `prompt` er brukerens spørsmål eller kommando\n",
    "prompt = \"Ris man bruker til indisk mat\"\n",
    "response = create_chat_completion(prompt)\n",
    "print(response)\n"
   ]
  },
  {
   "cell_type": "code",
   "execution_count": 34,
   "metadata": {},
   "outputs": [
    {
     "data": {
      "text/plain": [
       "'1. Varebeskrivelse: Basmatiris\\n   - Posisjon (4 siffer): 1006\\n   - Underposisjon (6 siffer): 100630\\n   - Nasjonalt varenummer (8 siffer): 10063010\\n\\n2. Varebeskrivelse: Jasminris\\n   - Posisjon (4 siffer): 1006\\n   - Underposisjon (6 siffer): 100630\\n   - Nasjonalt varenummer (8 siffer): 10063010\\n\\n3. Varebeskrivelse: Langkornet ris\\n   - Posisjon (4 siffer): 1006\\n   - Underposisjon (6 siffer): 100610\\n   - Nasjonalt varenummer (8 siffer): 10061010'"
      ]
     },
     "execution_count": 34,
     "metadata": {},
     "output_type": "execute_result"
    }
   ],
   "source": [
    "response.choices[0].message.content"
   ]
  },
  {
   "cell_type": "code",
   "execution_count": 27,
   "metadata": {},
   "outputs": [
    {
     "ename": "JSONDecodeError",
     "evalue": "Expecting value: line 1 column 1 (char 0)",
     "output_type": "error",
     "traceback": [
      "\u001b[0;31m---------------------------------------------------------------------------\u001b[0m",
      "\u001b[0;31mJSONDecodeError\u001b[0m                           Traceback (most recent call last)",
      "Cell \u001b[0;32mIn[27], line 2\u001b[0m\n\u001b[1;32m      1\u001b[0m \u001b[38;5;28;01mimport\u001b[39;00m \u001b[38;5;21;01mjson\u001b[39;00m\n\u001b[0;32m----> 2\u001b[0m filter_map \u001b[38;5;241m=\u001b[39m \u001b[43mjson\u001b[49m\u001b[38;5;241;43m.\u001b[39;49m\u001b[43mloads\u001b[49m\u001b[43m(\u001b[49m\u001b[43mresponse\u001b[49m\u001b[38;5;241;43m.\u001b[39;49m\u001b[43mchoices\u001b[49m\u001b[43m[\u001b[49m\u001b[38;5;241;43m0\u001b[39;49m\u001b[43m]\u001b[49m\u001b[38;5;241;43m.\u001b[39;49m\u001b[43mmessage\u001b[49m\u001b[38;5;241;43m.\u001b[39;49m\u001b[43mcontent\u001b[49m\u001b[43m)\u001b[49m\n\u001b[1;32m      3\u001b[0m filter_map\n",
      "File \u001b[0;32m~/opt/anaconda3/lib/python3.9/json/__init__.py:346\u001b[0m, in \u001b[0;36mloads\u001b[0;34m(s, cls, object_hook, parse_float, parse_int, parse_constant, object_pairs_hook, **kw)\u001b[0m\n\u001b[1;32m    341\u001b[0m     s \u001b[38;5;241m=\u001b[39m s\u001b[38;5;241m.\u001b[39mdecode(detect_encoding(s), \u001b[38;5;124m'\u001b[39m\u001b[38;5;124msurrogatepass\u001b[39m\u001b[38;5;124m'\u001b[39m)\n\u001b[1;32m    343\u001b[0m \u001b[38;5;28;01mif\u001b[39;00m (\u001b[38;5;28mcls\u001b[39m \u001b[38;5;129;01mis\u001b[39;00m \u001b[38;5;28;01mNone\u001b[39;00m \u001b[38;5;129;01mand\u001b[39;00m object_hook \u001b[38;5;129;01mis\u001b[39;00m \u001b[38;5;28;01mNone\u001b[39;00m \u001b[38;5;129;01mand\u001b[39;00m\n\u001b[1;32m    344\u001b[0m         parse_int \u001b[38;5;129;01mis\u001b[39;00m \u001b[38;5;28;01mNone\u001b[39;00m \u001b[38;5;129;01mand\u001b[39;00m parse_float \u001b[38;5;129;01mis\u001b[39;00m \u001b[38;5;28;01mNone\u001b[39;00m \u001b[38;5;129;01mand\u001b[39;00m\n\u001b[1;32m    345\u001b[0m         parse_constant \u001b[38;5;129;01mis\u001b[39;00m \u001b[38;5;28;01mNone\u001b[39;00m \u001b[38;5;129;01mand\u001b[39;00m object_pairs_hook \u001b[38;5;129;01mis\u001b[39;00m \u001b[38;5;28;01mNone\u001b[39;00m \u001b[38;5;129;01mand\u001b[39;00m \u001b[38;5;129;01mnot\u001b[39;00m kw):\n\u001b[0;32m--> 346\u001b[0m     \u001b[38;5;28;01mreturn\u001b[39;00m \u001b[43m_default_decoder\u001b[49m\u001b[38;5;241;43m.\u001b[39;49m\u001b[43mdecode\u001b[49m\u001b[43m(\u001b[49m\u001b[43ms\u001b[49m\u001b[43m)\u001b[49m\n\u001b[1;32m    347\u001b[0m \u001b[38;5;28;01mif\u001b[39;00m \u001b[38;5;28mcls\u001b[39m \u001b[38;5;129;01mis\u001b[39;00m \u001b[38;5;28;01mNone\u001b[39;00m:\n\u001b[1;32m    348\u001b[0m     \u001b[38;5;28mcls\u001b[39m \u001b[38;5;241m=\u001b[39m JSONDecoder\n",
      "File \u001b[0;32m~/opt/anaconda3/lib/python3.9/json/decoder.py:337\u001b[0m, in \u001b[0;36mJSONDecoder.decode\u001b[0;34m(self, s, _w)\u001b[0m\n\u001b[1;32m    332\u001b[0m \u001b[38;5;28;01mdef\u001b[39;00m \u001b[38;5;21mdecode\u001b[39m(\u001b[38;5;28mself\u001b[39m, s, _w\u001b[38;5;241m=\u001b[39mWHITESPACE\u001b[38;5;241m.\u001b[39mmatch):\n\u001b[1;32m    333\u001b[0m \u001b[38;5;250m    \u001b[39m\u001b[38;5;124;03m\"\"\"Return the Python representation of ``s`` (a ``str`` instance\u001b[39;00m\n\u001b[1;32m    334\u001b[0m \u001b[38;5;124;03m    containing a JSON document).\u001b[39;00m\n\u001b[1;32m    335\u001b[0m \n\u001b[1;32m    336\u001b[0m \u001b[38;5;124;03m    \"\"\"\u001b[39;00m\n\u001b[0;32m--> 337\u001b[0m     obj, end \u001b[38;5;241m=\u001b[39m \u001b[38;5;28;43mself\u001b[39;49m\u001b[38;5;241;43m.\u001b[39;49m\u001b[43mraw_decode\u001b[49m\u001b[43m(\u001b[49m\u001b[43ms\u001b[49m\u001b[43m,\u001b[49m\u001b[43m \u001b[49m\u001b[43midx\u001b[49m\u001b[38;5;241;43m=\u001b[39;49m\u001b[43m_w\u001b[49m\u001b[43m(\u001b[49m\u001b[43ms\u001b[49m\u001b[43m,\u001b[49m\u001b[43m \u001b[49m\u001b[38;5;241;43m0\u001b[39;49m\u001b[43m)\u001b[49m\u001b[38;5;241;43m.\u001b[39;49m\u001b[43mend\u001b[49m\u001b[43m(\u001b[49m\u001b[43m)\u001b[49m\u001b[43m)\u001b[49m\n\u001b[1;32m    338\u001b[0m     end \u001b[38;5;241m=\u001b[39m _w(s, end)\u001b[38;5;241m.\u001b[39mend()\n\u001b[1;32m    339\u001b[0m     \u001b[38;5;28;01mif\u001b[39;00m end \u001b[38;5;241m!=\u001b[39m \u001b[38;5;28mlen\u001b[39m(s):\n",
      "File \u001b[0;32m~/opt/anaconda3/lib/python3.9/json/decoder.py:355\u001b[0m, in \u001b[0;36mJSONDecoder.raw_decode\u001b[0;34m(self, s, idx)\u001b[0m\n\u001b[1;32m    353\u001b[0m     obj, end \u001b[38;5;241m=\u001b[39m \u001b[38;5;28mself\u001b[39m\u001b[38;5;241m.\u001b[39mscan_once(s, idx)\n\u001b[1;32m    354\u001b[0m \u001b[38;5;28;01mexcept\u001b[39;00m \u001b[38;5;167;01mStopIteration\u001b[39;00m \u001b[38;5;28;01mas\u001b[39;00m err:\n\u001b[0;32m--> 355\u001b[0m     \u001b[38;5;28;01mraise\u001b[39;00m JSONDecodeError(\u001b[38;5;124m\"\u001b[39m\u001b[38;5;124mExpecting value\u001b[39m\u001b[38;5;124m\"\u001b[39m, s, err\u001b[38;5;241m.\u001b[39mvalue) \u001b[38;5;28;01mfrom\u001b[39;00m \u001b[38;5;28;01mNone\u001b[39;00m\n\u001b[1;32m    356\u001b[0m \u001b[38;5;28;01mreturn\u001b[39;00m obj, end\n",
      "\u001b[0;31mJSONDecodeError\u001b[0m: Expecting value: line 1 column 1 (char 0)"
     ]
    }
   ],
   "source": [
    "import json\n",
    "filter_map = json.loads(response.choices[0].message.content)\n",
    "filter_map"
   ]
  },
  {
   "cell_type": "code",
   "execution_count": null,
   "metadata": {},
   "outputs": [],
   "source": []
  },
  {
   "cell_type": "markdown",
   "metadata": {},
   "source": [
    "### Generere JSON ouput basert på brukerens søk"
   ]
  },
  {
   "cell_type": "code",
   "execution_count": null,
   "metadata": {},
   "outputs": [],
   "source": [
    "\"\"\"#`response` er svaret du får fra OpenAI\n",
    "#konverterer svaret til en JSON-struktur\n",
    "def convert_to_json(response):\n",
    "    #trekke ut informasjon fra svaret\n",
    "    #tilpasse basert på strukturen til svaret man får fra OpenAI\n",
    "    data = response['choices'][0]['message']['content']\n",
    "    json_output = {\n",
    "        \"varenummer\": \"10059010\",  # Erstatt dette med faktiske verdier\n",
    "        \"kapittel\": \"Grovfor til storfe\",  # Erstatt dette med faktiske verdier\n",
    "        \"beskrivelse\": \"Hele maisplanter, med maiskolbe, som er finsnittet og ensilert...\"  # Erstatt dette med faktiske verdier\n",
    "    }\n",
    "    return json_output\n",
    "\n",
    "# Bruk denne funksjonen til å konvertere svaret til JSON\n",
    "json_response = convert_to_json(response)\n",
    "print(json.dumps(json_response, indent=2, ensure_ascii=False))\n",
    " \"\"\""
   ]
  },
  {
   "cell_type": "code",
   "execution_count": null,
   "metadata": {},
   "outputs": [],
   "source": [
    "\"\"\"q1 = {\n",
    "    \"knn\": {\n",
    "        \"field\" : \"NavnVareBeskrivelse\", #Sender query vector til søkefeltet også til vector\n",
    "        \"query_vector\" : vector_of_input_keyword,\n",
    "        \"k\" : 10, #Hvor mange resultater vi ønsker\n",
    "        \"num_candidates\" : 1000 #hvor mange kandidter som kommer til å blir lagt til i algoritmen.\n",
    "    },\n",
    "\n",
    "    \"_source\": [\"Varenummer\", \"Kapittel\", \"Beskrivelse\"]\n",
    "} \"\"\""
   ]
  },
  {
   "cell_type": "code",
   "execution_count": 10,
   "metadata": {},
   "outputs": [
    {
     "name": "stdout",
     "output_type": "stream",
     "text": [
      " * Serving Flask app '__main__'\n",
      " * Debug mode: on\n"
     ]
    },
    {
     "name": "stderr",
     "output_type": "stream",
     "text": [
      "\u001b[31m\u001b[1mWARNING: This is a development server. Do not use it in a production deployment. Use a production WSGI server instead.\u001b[0m\n",
      " * Running on http://127.0.0.1:5001\n",
      "\u001b[33mPress CTRL+C to quit\u001b[0m\n",
      " * Restarting with watchdog (fsevents)\n",
      "Traceback (most recent call last):\n",
      "  File \"/Users/yousra/csvFilTollEtaten/venv/lib/python3.9/site-packages/ipykernel_launcher.py\", line 18, in <module>\n",
      "    app.launch_new_instance()\n",
      "  File \"/Users/yousra/csvFilTollEtaten/venv/lib/python3.9/site-packages/traitlets/config/application.py\", line 1074, in launch_instance\n",
      "    app.initialize(argv)\n",
      "  File \"/Users/yousra/csvFilTollEtaten/venv/lib/python3.9/site-packages/traitlets/config/application.py\", line 118, in inner\n",
      "    return method(app, *args, **kwargs)\n",
      "  File \"/Users/yousra/csvFilTollEtaten/venv/lib/python3.9/site-packages/ipykernel/kernelapp.py\", line 692, in initialize\n",
      "    self.init_sockets()\n",
      "  File \"/Users/yousra/csvFilTollEtaten/venv/lib/python3.9/site-packages/ipykernel/kernelapp.py\", line 331, in init_sockets\n",
      "    self.shell_port = self._bind_socket(self.shell_socket, self.shell_port)\n",
      "  File \"/Users/yousra/csvFilTollEtaten/venv/lib/python3.9/site-packages/ipykernel/kernelapp.py\", line 253, in _bind_socket\n",
      "    return self._try_bind_socket(s, port)\n",
      "  File \"/Users/yousra/csvFilTollEtaten/venv/lib/python3.9/site-packages/ipykernel/kernelapp.py\", line 229, in _try_bind_socket\n",
      "    s.bind(\"tcp://%s:%i\" % (self.ip, port))\n",
      "  File \"/Users/yousra/csvFilTollEtaten/venv/lib/python3.9/site-packages/zmq/sugar/socket.py\", line 302, in bind\n",
      "    super().bind(addr)\n",
      "  File \"zmq/backend/cython/socket.pyx\", line 564, in zmq.backend.cython.socket.Socket.bind\n",
      "  File \"zmq/backend/cython/checkrc.pxd\", line 28, in zmq.backend.cython.checkrc._check_rc\n",
      "zmq.error.ZMQError: Address already in use (addr='tcp://127.0.0.1:9002')\n"
     ]
    },
    {
     "ename": "SystemExit",
     "evalue": "1",
     "output_type": "error",
     "traceback": [
      "An exception has occurred, use %tb to see the full traceback.\n",
      "\u001b[0;31mSystemExit\u001b[0m\u001b[0;31m:\u001b[0m 1\n"
     ]
    }
   ],
   "source": [
    "from flask import Flask, request, jsonify\n",
    "app = Flask(__name__)\n",
    "\n",
    "@app.route('/get-explanation', methods=['POST'])\n",
    "def get_explanation():\n",
    "    data = request.json\n",
    "    input_text = data['input_text']\n",
    "# Anta at du har en funksjon som behandler input_text og returnerer en forklaring\n",
    "    explanation = process_input_and_generate_explanation(input_text)\n",
    "    return jsonify({\"explanation\": explanation})\n",
    "\n",
    "if name == 'main':\n",
    "    app.run(debug=True)\n"
   ]
  },
  {
   "cell_type": "code",
   "execution_count": null,
   "metadata": {},
   "outputs": [],
   "source": []
  },
  {
   "cell_type": "code",
   "execution_count": null,
   "metadata": {},
   "outputs": [],
   "source": []
  }
 ],
 "metadata": {
  "kernelspec": {
   "display_name": "venv",
   "language": "python",
   "name": "python3"
  },
  "language_info": {
   "codemirror_mode": {
    "name": "ipython",
    "version": 3
   },
   "file_extension": ".py",
   "mimetype": "text/x-python",
   "name": "python",
   "nbconvert_exporter": "python",
   "pygments_lexer": "ipython3",
   "version": "3.9.7"
  }
 },
 "nbformat": 4,
 "nbformat_minor": 2
}
